{
 "cells": [
  {
   "cell_type": "code",
   "execution_count": 1,
   "id": "a9010b81",
   "metadata": {},
   "outputs": [],
   "source": [
    "import pandas as pd \n",
    "import numpy as np\n",
    "import matplotlib.pyplot as plt\n",
    "import seaborn as sns \n",
    "%matplotlib inline\n"
   ]
  },
  {
   "cell_type": "code",
   "execution_count": 2,
   "id": "08b664ee",
   "metadata": {},
   "outputs": [],
   "source": [
    "dataset=pd.read_csv('Questionnaire.csv')"
   ]
  },
  {
   "cell_type": "code",
   "execution_count": 3,
   "id": "fc57758f",
   "metadata": {},
   "outputs": [
    {
     "data": {
      "text/html": [
       "<div>\n",
       "<style scoped>\n",
       "    .dataframe tbody tr th:only-of-type {\n",
       "        vertical-align: middle;\n",
       "    }\n",
       "\n",
       "    .dataframe tbody tr th {\n",
       "        vertical-align: top;\n",
       "    }\n",
       "\n",
       "    .dataframe thead th {\n",
       "        text-align: right;\n",
       "    }\n",
       "</style>\n",
       "<table border=\"1\" class=\"dataframe\">\n",
       "  <thead>\n",
       "    <tr style=\"text-align: right;\">\n",
       "      <th></th>\n",
       "      <th>Timestamp</th>\n",
       "      <th>Patient_ID</th>\n",
       "      <th>Date</th>\n",
       "      <th>Class</th>\n",
       "      <th>Age</th>\n",
       "      <th>Gender</th>\n",
       "      <th>Blood Group</th>\n",
       "      <th>BMI</th>\n",
       "      <th>Pulse Rate</th>\n",
       "      <th>on_thyroxine</th>\n",
       "      <th>...</th>\n",
       "      <th>CRP</th>\n",
       "      <th>Creatinine</th>\n",
       "      <th>Vitamin D</th>\n",
       "      <th>Thyroid Ultrasound</th>\n",
       "      <th>thyroid scan (thyroid scintigraphy)</th>\n",
       "      <th>Ferritin</th>\n",
       "      <th>Anti HCV</th>\n",
       "      <th>Bilirubin</th>\n",
       "      <th>AFP</th>\n",
       "      <th>Comment</th>\n",
       "    </tr>\n",
       "  </thead>\n",
       "  <tbody>\n",
       "    <tr>\n",
       "      <th>0</th>\n",
       "      <td>9/20/2023 13:15:13</td>\n",
       "      <td>CSCR_001</td>\n",
       "      <td>9/16/2023</td>\n",
       "      <td>Normal</td>\n",
       "      <td>33</td>\n",
       "      <td>M</td>\n",
       "      <td>O+</td>\n",
       "      <td>NaN</td>\n",
       "      <td>NaN</td>\n",
       "      <td>F</td>\n",
       "      <td>...</td>\n",
       "      <td>NaN</td>\n",
       "      <td>NaN</td>\n",
       "      <td>NaN</td>\n",
       "      <td>NaN</td>\n",
       "      <td>NaN</td>\n",
       "      <td>NaN</td>\n",
       "      <td>NaN</td>\n",
       "      <td>NaN</td>\n",
       "      <td>NaN</td>\n",
       "      <td>Test is carried out by Cobas e 411</td>\n",
       "    </tr>\n",
       "    <tr>\n",
       "      <th>1</th>\n",
       "      <td>9/20/2023 13:53:01</td>\n",
       "      <td>CSCR_002</td>\n",
       "      <td>9/16/2023</td>\n",
       "      <td>Normal</td>\n",
       "      <td>46</td>\n",
       "      <td>F</td>\n",
       "      <td>O+</td>\n",
       "      <td>NaN</td>\n",
       "      <td>NaN</td>\n",
       "      <td>F</td>\n",
       "      <td>...</td>\n",
       "      <td>NaN</td>\n",
       "      <td>NaN</td>\n",
       "      <td>NaN</td>\n",
       "      <td>NaN</td>\n",
       "      <td>NaN</td>\n",
       "      <td>NaN</td>\n",
       "      <td>NaN</td>\n",
       "      <td>NaN</td>\n",
       "      <td>NaN</td>\n",
       "      <td>Test is carried out by Advia Centaur CP</td>\n",
       "    </tr>\n",
       "    <tr>\n",
       "      <th>2</th>\n",
       "      <td>9/20/2023 13:55:02</td>\n",
       "      <td>CSCR_003</td>\n",
       "      <td>9/16/2023</td>\n",
       "      <td>Normal</td>\n",
       "      <td>59</td>\n",
       "      <td>M</td>\n",
       "      <td>O+</td>\n",
       "      <td>NaN</td>\n",
       "      <td>NaN</td>\n",
       "      <td>F</td>\n",
       "      <td>...</td>\n",
       "      <td>NaN</td>\n",
       "      <td>NaN</td>\n",
       "      <td>NaN</td>\n",
       "      <td>NaN</td>\n",
       "      <td>NaN</td>\n",
       "      <td>NaN</td>\n",
       "      <td>NaN</td>\n",
       "      <td>NaN</td>\n",
       "      <td>NaN</td>\n",
       "      <td>Test is carried out by Cobas e 411</td>\n",
       "    </tr>\n",
       "    <tr>\n",
       "      <th>3</th>\n",
       "      <td>9/20/2023 14:01:58</td>\n",
       "      <td>CSCR_004</td>\n",
       "      <td>9/16/2023</td>\n",
       "      <td>Hypo</td>\n",
       "      <td>32</td>\n",
       "      <td>M</td>\n",
       "      <td>O+</td>\n",
       "      <td>NaN</td>\n",
       "      <td>NaN</td>\n",
       "      <td>F</td>\n",
       "      <td>...</td>\n",
       "      <td>NaN</td>\n",
       "      <td>NaN</td>\n",
       "      <td>NaN</td>\n",
       "      <td>NaN</td>\n",
       "      <td>NaN</td>\n",
       "      <td>NaN</td>\n",
       "      <td>NaN</td>\n",
       "      <td>NaN</td>\n",
       "      <td>NaN</td>\n",
       "      <td>Test is carried out by Cobas e 411</td>\n",
       "    </tr>\n",
       "    <tr>\n",
       "      <th>4</th>\n",
       "      <td>9/20/2023 15:17:09</td>\n",
       "      <td>CSCR_005</td>\n",
       "      <td>9/16/2023</td>\n",
       "      <td>Normal</td>\n",
       "      <td>57</td>\n",
       "      <td>F</td>\n",
       "      <td>O+</td>\n",
       "      <td>NaN</td>\n",
       "      <td>NaN</td>\n",
       "      <td>F</td>\n",
       "      <td>...</td>\n",
       "      <td>NaN</td>\n",
       "      <td>NaN</td>\n",
       "      <td>NaN</td>\n",
       "      <td>NaN</td>\n",
       "      <td>NaN</td>\n",
       "      <td>NaN</td>\n",
       "      <td>NaN</td>\n",
       "      <td>NaN</td>\n",
       "      <td>NaN</td>\n",
       "      <td>Test is carried out by Cobas e 411</td>\n",
       "    </tr>\n",
       "  </tbody>\n",
       "</table>\n",
       "<p>5 rows × 46 columns</p>\n",
       "</div>"
      ],
      "text/plain": [
       "            Timestamp Patient_ID       Date   Class Age Gender Blood Group  \\\n",
       "0  9/20/2023 13:15:13   CSCR_001  9/16/2023  Normal  33      M          O+   \n",
       "1  9/20/2023 13:53:01   CSCR_002  9/16/2023  Normal  46      F          O+   \n",
       "2  9/20/2023 13:55:02   CSCR_003  9/16/2023  Normal  59      M          O+   \n",
       "3  9/20/2023 14:01:58   CSCR_004  9/16/2023    Hypo  32      M          O+   \n",
       "4  9/20/2023 15:17:09   CSCR_005  9/16/2023  Normal  57      F          O+   \n",
       "\n",
       "   BMI  Pulse Rate on_thyroxine  ... CRP Creatinine Vitamin D  \\\n",
       "0  NaN         NaN            F  ... NaN        NaN       NaN   \n",
       "1  NaN         NaN            F  ... NaN        NaN       NaN   \n",
       "2  NaN         NaN            F  ... NaN        NaN       NaN   \n",
       "3  NaN         NaN            F  ... NaN        NaN       NaN   \n",
       "4  NaN         NaN            F  ... NaN        NaN       NaN   \n",
       "\n",
       "  Thyroid Ultrasound  thyroid scan (thyroid scintigraphy)  Ferritin  Anti HCV  \\\n",
       "0                NaN                                  NaN       NaN       NaN   \n",
       "1                NaN                                  NaN       NaN       NaN   \n",
       "2                NaN                                  NaN       NaN       NaN   \n",
       "3                NaN                                  NaN       NaN       NaN   \n",
       "4                NaN                                  NaN       NaN       NaN   \n",
       "\n",
       "   Bilirubin  AFP                                  Comment  \n",
       "0        NaN  NaN       Test is carried out by Cobas e 411  \n",
       "1        NaN  NaN  Test is carried out by Advia Centaur CP  \n",
       "2        NaN  NaN       Test is carried out by Cobas e 411  \n",
       "3        NaN  NaN       Test is carried out by Cobas e 411  \n",
       "4        NaN  NaN       Test is carried out by Cobas e 411  \n",
       "\n",
       "[5 rows x 46 columns]"
      ]
     },
     "execution_count": 3,
     "metadata": {},
     "output_type": "execute_result"
    }
   ],
   "source": [
    "dataset.head()"
   ]
  },
  {
   "cell_type": "code",
   "execution_count": 4,
   "id": "6530ecaa",
   "metadata": {},
   "outputs": [
    {
     "data": {
      "text/plain": [
       "Index(['Timestamp', 'Patient_ID', 'Date', 'Class', 'Age', 'Gender',\n",
       "       'Blood Group', 'BMI', 'Pulse Rate', 'on_thyroxine',\n",
       "       'query_on_thyroxine', 'on_antithyroid_medication', 'thyroid_surgery',\n",
       "       'I131_treatment',\n",
       "       'Have you been experiencing any of these symptoms?(check all that apply)',\n",
       "       'TSH', 'FT4', 'FT3', 'T4 ', 'T3', 'Anti-TPO Ab',\n",
       "       'Random Blood Sugar (RBS)', 'WBC', 'RBC', 'Platelet', 'Hb',\n",
       "       'Total Cholesterol', 'Triglycerides', 'HDL Cholesterol',\n",
       "       'LDL Cholesterol', 'S.IgE', 'Prolactin', 'LH', 'FSH', 'ALT', 'AST',\n",
       "       'CRP', 'Creatinine', 'Vitamin D', 'Thyroid Ultrasound',\n",
       "       'thyroid scan (thyroid scintigraphy)', 'Ferritin', 'Anti HCV',\n",
       "       'Bilirubin', 'AFP', 'Comment'],\n",
       "      dtype='object')"
      ]
     },
     "execution_count": 4,
     "metadata": {},
     "output_type": "execute_result"
    }
   ],
   "source": [
    "dataset.columns"
   ]
  },
  {
   "cell_type": "code",
   "execution_count": 5,
   "id": "628772fa",
   "metadata": {},
   "outputs": [
    {
     "data": {
      "text/plain": [
       "(2087, 46)"
      ]
     },
     "execution_count": 5,
     "metadata": {},
     "output_type": "execute_result"
    }
   ],
   "source": [
    "dataset.shape "
   ]
  },
  {
   "cell_type": "markdown",
   "id": "2adbba4b",
   "metadata": {},
   "source": [
    "# Check No of Null values\n"
   ]
  },
  {
   "cell_type": "code",
   "execution_count": 6,
   "id": "361b84dd",
   "metadata": {},
   "outputs": [
    {
     "data": {
      "text/plain": [
       "Timestamp                                                                     0\n",
       "Patient_ID                                                                    0\n",
       "Date                                                                          0\n",
       "Class                                                                         0\n",
       "Age                                                                           0\n",
       "Gender                                                                        0\n",
       "Blood Group                                                                 498\n",
       "BMI                                                                        2086\n",
       "Pulse Rate                                                                 2087\n",
       "on_thyroxine                                                                538\n",
       "query_on_thyroxine                                                          539\n",
       "on_antithyroid_medication                                                   367\n",
       "thyroid_surgery                                                             539\n",
       "I131_treatment                                                              539\n",
       "Have you been experiencing any of these symptoms?(check all that apply)    2087\n",
       "TSH                                                                           0\n",
       "FT4                                                                        1698\n",
       "FT3                                                                        2028\n",
       "T4                                                                         2037\n",
       "T3                                                                         2057\n",
       "Anti-TPO Ab                                                                2049\n",
       "Random Blood Sugar (RBS)                                                   1931\n",
       "WBC                                                                        1091\n",
       "RBC                                                                        1103\n",
       "Platelet                                                                   1098\n",
       "Hb                                                                         1075\n",
       "Total Cholesterol                                                          1876\n",
       "Triglycerides                                                              1880\n",
       "HDL Cholesterol                                                            1876\n",
       "LDL Cholesterol                                                            1853\n",
       "S.IgE                                                                      2033\n",
       "Prolactin                                                                  2005\n",
       "LH                                                                         2049\n",
       "FSH                                                                        2047\n",
       "ALT                                                                        1817\n",
       "AST                                                                        2054\n",
       "CRP                                                                        1893\n",
       "Creatinine                                                                 1921\n",
       "Vitamin D                                                                  2046\n",
       "Thyroid Ultrasound                                                         2087\n",
       "thyroid scan (thyroid scintigraphy)                                        2087\n",
       "Ferritin                                                                   2027\n",
       "Anti HCV                                                                   2014\n",
       "Bilirubin                                                                  2068\n",
       "AFP                                                                        2067\n",
       "Comment                                                                     203\n",
       "dtype: int64"
      ]
     },
     "execution_count": 6,
     "metadata": {},
     "output_type": "execute_result"
    }
   ],
   "source": [
    "dataset.isnull().sum() "
   ]
  },
  {
   "cell_type": "code",
   "execution_count": 7,
   "id": "670a2f45",
   "metadata": {},
   "outputs": [],
   "source": [
    "sns.set_style('whitegrid')\n",
    "#plt.figure(figsize=(10,15))"
   ]
  },
  {
   "cell_type": "code",
   "execution_count": 8,
   "id": "d96520cc",
   "metadata": {},
   "outputs": [
    {
     "data": {
      "text/plain": [
       "<AxesSubplot:>"
      ]
     },
     "execution_count": 8,
     "metadata": {},
     "output_type": "execute_result"
    },
    {
     "data": {
      "image/png": "[encoded data removed]",
      "text/plain": [
       "<Figure size 2500x1500 with 2 Axes>"
      ]
     },
     "metadata": {},
     "output_type": "display_data"
    }
   ],
   "source": [
    "plt.figure(figsize=(25, 15))\n",
    "sns.heatmap(dataset.isnull(), yticklabels=False)  "
   ]
  },
  {
   "cell_type": "markdown",
   "id": "ba98a6e4",
   "metadata": {},
   "source": [
    "# Preprocess blood group using mode"
   ]
  },
  {
   "cell_type": "code",
   "execution_count": 9,
   "id": "6719f6be",
   "metadata": {},
   "outputs": [],
   "source": [
    "mode_blood_group = dataset['Blood Group'].mode()[0]  "
   ]
  },
  {
   "cell_type": "code",
   "execution_count": 10,
   "id": "3c9b4d33",
   "metadata": {},
   "outputs": [
    {
     "data": {
      "text/plain": [
       "'O+'"
      ]
     },
     "execution_count": 10,
     "metadata": {},
     "output_type": "execute_result"
    }
   ],
   "source": [
    "mode_blood_group "
   ]
  },
  {
   "cell_type": "code",
   "execution_count": 11,
   "id": "b26d7fe9",
   "metadata": {},
   "outputs": [
    {
     "data": {
      "text/plain": [
       "<AxesSubplot:xlabel='Blood Group', ylabel='count'>"
      ]
     },
     "execution_count": 11,
     "metadata": {},
     "output_type": "execute_result"
    },
    {
     "data": {
      "image/png": "[encoded data removed]",
      "text/plain": [
       "<Figure size 640x480 with 1 Axes>"
      ]
     },
     "metadata": {},
     "output_type": "display_data"
    }
   ],
   "source": [
    "sns.countplot(x='Blood Group',data=dataset)"
   ]
  },
  {
   "cell_type": "code",
   "execution_count": 12,
   "id": "65d50105",
   "metadata": {},
   "outputs": [],
   "source": [
    "dataset['Blood Group'].fillna(mode_blood_group,inplace=True)   "
   ]
  },
  {
   "cell_type": "code",
   "execution_count": 13,
   "id": "4d10e5f3",
   "metadata": {},
   "outputs": [
    {
     "data": {
      "text/plain": [
       "Timestamp                                                                     0\n",
       "Patient_ID                                                                    0\n",
       "Date                                                                          0\n",
       "Class                                                                         0\n",
       "Age                                                                           0\n",
       "Gender                                                                        0\n",
       "Blood Group                                                                   0\n",
       "BMI                                                                        2086\n",
       "Pulse Rate                                                                 2087\n",
       "on_thyroxine                                                                538\n",
       "query_on_thyroxine                                                          539\n",
       "on_antithyroid_medication                                                   367\n",
       "thyroid_surgery                                                             539\n",
       "I131_treatment                                                              539\n",
       "Have you been experiencing any of these symptoms?(check all that apply)    2087\n",
       "TSH                                                                           0\n",
       "FT4                                                                        1698\n",
       "FT3                                                                        2028\n",
       "T4                                                                         2037\n",
       "T3                                                                         2057\n",
       "Anti-TPO Ab                                                                2049\n",
       "Random Blood Sugar (RBS)                                                   1931\n",
       "WBC                                                                        1091\n",
       "RBC                                                                        1103\n",
       "Platelet                                                                   1098\n",
       "Hb                                                                         1075\n",
       "Total Cholesterol                                                          1876\n",
       "Triglycerides                                                              1880\n",
       "HDL Cholesterol                                                            1876\n",
       "LDL Cholesterol                                                            1853\n",
       "S.IgE                                                                      2033\n",
       "Prolactin                                                                  2005\n",
       "LH                                                                         2049\n",
       "FSH                                                                        2047\n",
       "ALT                                                                        1817\n",
       "AST                                                                        2054\n",
       "CRP                                                                        1893\n",
       "Creatinine                                                                 1921\n",
       "Vitamin D                                                                  2046\n",
       "Thyroid Ultrasound                                                         2087\n",
       "thyroid scan (thyroid scintigraphy)                                        2087\n",
       "Ferritin                                                                   2027\n",
       "Anti HCV                                                                   2014\n",
       "Bilirubin                                                                  2068\n",
       "AFP                                                                        2067\n",
       "Comment                                                                     203\n",
       "dtype: int64"
      ]
     },
     "execution_count": 13,
     "metadata": {},
     "output_type": "execute_result"
    }
   ],
   "source": [
    "dataset.isnull().sum()"
   ]
  },
  {
   "cell_type": "code",
   "execution_count": 14,
   "id": "20a940b9",
   "metadata": {},
   "outputs": [
    {
     "data": {
      "text/plain": [
       "<AxesSubplot:xlabel='Blood Group', ylabel='count'>"
      ]
     },
     "execution_count": 14,
     "metadata": {},
     "output_type": "execute_result"
    },
    {
     "data": {
      "image/png": "[encoded data removed]",
      "text/plain": [
       "<Figure size 640x480 with 1 Axes>"
      ]
     },
     "metadata": {},
     "output_type": "display_data"
    }
   ],
   "source": [
    "sns.countplot(x='Blood Group',data=dataset)"
   ]
  },
  {
   "cell_type": "markdown",
   "id": "884a05c2",
   "metadata": {},
   "source": [
    "# Processing On Thyroxine data"
   ]
  },
  {
   "cell_type": "code",
   "execution_count": 15,
   "id": "1cd4003d",
   "metadata": {},
   "outputs": [
    {
     "data": {
      "text/plain": [
       "<AxesSubplot:xlabel='on_thyroxine', ylabel='count'>"
      ]
     },
     "execution_count": 15,
     "metadata": {},
     "output_type": "execute_result"
    },
    {
     "data": {
      "image/png": "[encoded data removed]",
      "text/plain": [
       "<Figure size 640x480 with 1 Axes>"
      ]
     },
     "metadata": {},
     "output_type": "display_data"
    }
   ],
   "source": [
    "sns.countplot(x='on_thyroxine',data=dataset) "
   ]
  },
  {
   "cell_type": "code",
   "execution_count": 16,
   "id": "9aa53ff2",
   "metadata": {},
   "outputs": [],
   "source": [
    "mode_on_thyroxine=dataset['on_thyroxine'].mode()[0]"
   ]
  },
  {
   "cell_type": "code",
   "execution_count": 17,
   "id": "73123f43",
   "metadata": {},
   "outputs": [
    {
     "data": {
      "text/plain": [
       "'F'"
      ]
     },
     "execution_count": 17,
     "metadata": {},
     "output_type": "execute_result"
    }
   ],
   "source": [
    "mode_on_thyroxine"
   ]
  },
  {
   "cell_type": "code",
   "execution_count": 18,
   "id": "00c58d4f",
   "metadata": {},
   "outputs": [],
   "source": [
    "dataset['on_thyroxine'].fillna(mode_on_thyroxine,inplace=True)"
   ]
  },
  {
   "cell_type": "code",
   "execution_count": 19,
   "id": "56ebf679",
   "metadata": {},
   "outputs": [
    {
     "data": {
      "text/plain": [
       "0"
      ]
     },
     "execution_count": 19,
     "metadata": {},
     "output_type": "execute_result"
    }
   ],
   "source": [
    "dataset['on_thyroxine'].isnull().sum()"
   ]
  },
  {
   "cell_type": "markdown",
   "id": "8c32ea16",
   "metadata": {},
   "source": [
    "# Processing query_on_thyroxine"
   ]
  },
  {
   "cell_type": "code",
   "execution_count": 20,
   "id": "29f52b9d",
   "metadata": {},
   "outputs": [
    {
     "data": {
      "text/plain": [
       "F    1548\n",
       "Name: query_on_thyroxine, dtype: int64"
      ]
     },
     "execution_count": 20,
     "metadata": {},
     "output_type": "execute_result"
    }
   ],
   "source": [
    "dataset['query_on_thyroxine'].value_counts() "
   ]
  },
  {
   "cell_type": "code",
   "execution_count": 21,
   "id": "af41b00d",
   "metadata": {},
   "outputs": [],
   "source": [
    "dataset['query_on_thyroxine'].fillna(dataset['query_on_thyroxine'].mode()[0],inplace=True)"
   ]
  },
  {
   "cell_type": "code",
   "execution_count": 22,
   "id": "90b0f6f0",
   "metadata": {},
   "outputs": [
    {
     "data": {
      "text/plain": [
       "0"
      ]
     },
     "execution_count": 22,
     "metadata": {},
     "output_type": "execute_result"
    }
   ],
   "source": [
    "dataset['query_on_thyroxine'].isnull().sum() "
   ]
  },
  {
   "cell_type": "markdown",
   "id": "451b58f2",
   "metadata": {},
   "source": [
    "#  Processing  on_antithyroid_medication"
   ]
  },
  {
   "cell_type": "code",
   "execution_count": 23,
   "id": "9e60e3c2",
   "metadata": {},
   "outputs": [
    {
     "data": {
      "text/plain": [
       "F    1560\n",
       "T     160\n",
       "Name: on_antithyroid_medication, dtype: int64"
      ]
     },
     "execution_count": 23,
     "metadata": {},
     "output_type": "execute_result"
    }
   ],
   "source": [
    "dataset['on_antithyroid_medication'].value_counts() "
   ]
  },
  {
   "cell_type": "code",
   "execution_count": 24,
   "id": "dfe63c18",
   "metadata": {},
   "outputs": [],
   "source": [
    "# imputition by probabilistic approach\n",
    "probability_of_f = 1560 / (1560 + 160)\n",
    "\n",
    "# Generate random values based on the probabilities\n",
    "random_values = np.random.choice(['F', 'T'], size=dataset['on_antithyroid_medication'].isnull().sum(), p=[probability_of_f, 1 - probability_of_f])\n",
    "\n",
    "# Replace missing values with the generated random values\n",
    "dataset.loc[dataset['on_antithyroid_medication'].isnull(), 'on_antithyroid_medication'] = random_values\n"
   ]
  },
  {
   "cell_type": "code",
   "execution_count": 25,
   "id": "3be7fc73",
   "metadata": {},
   "outputs": [
    {
     "data": {
      "text/plain": [
       "F    1898\n",
       "T     189\n",
       "Name: on_antithyroid_medication, dtype: int64"
      ]
     },
     "execution_count": 25,
     "metadata": {},
     "output_type": "execute_result"
    }
   ],
   "source": [
    "dataset['on_antithyroid_medication'].value_counts() "
   ]
  },
  {
   "cell_type": "markdown",
   "id": "1cbceccf",
   "metadata": {},
   "source": [
    "# Processing thyroid_surgery"
   ]
  },
  {
   "cell_type": "code",
   "execution_count": 26,
   "id": "d0c7eebe",
   "metadata": {},
   "outputs": [
    {
     "data": {
      "text/plain": [
       "F    1548\n",
       "Name: thyroid_surgery, dtype: int64"
      ]
     },
     "execution_count": 26,
     "metadata": {},
     "output_type": "execute_result"
    }
   ],
   "source": [
    "dataset['thyroid_surgery'].value_counts() "
   ]
  },
  {
   "cell_type": "code",
   "execution_count": 27,
   "id": "3c1193b6",
   "metadata": {},
   "outputs": [],
   "source": [
    "dataset['thyroid_surgery'].fillna('F', inplace=True)"
   ]
  },
  {
   "cell_type": "code",
   "execution_count": 28,
   "id": "d57f83cf",
   "metadata": {},
   "outputs": [
    {
     "data": {
      "text/plain": [
       "F    2087\n",
       "Name: thyroid_surgery, dtype: int64"
      ]
     },
     "execution_count": 28,
     "metadata": {},
     "output_type": "execute_result"
    }
   ],
   "source": [
    "dataset['thyroid_surgery'].value_counts()"
   ]
  },
  {
   "cell_type": "markdown",
   "id": "1684b1f9",
   "metadata": {},
   "source": [
    "# Processing I131_treatment"
   ]
  },
  {
   "cell_type": "code",
   "execution_count": 29,
   "id": "30865ca2",
   "metadata": {},
   "outputs": [
    {
     "data": {
      "text/plain": [
       "F    1548\n",
       "Name: I131_treatment, dtype: int64"
      ]
     },
     "execution_count": 29,
     "metadata": {},
     "output_type": "execute_result"
    }
   ],
   "source": [
    "dataset['I131_treatment'].value_counts()"
   ]
  },
  {
   "cell_type": "code",
   "execution_count": 30,
   "id": "90e9df15",
   "metadata": {},
   "outputs": [],
   "source": [
    "dataset['I131_treatment'].fillna('F', inplace=True) "
   ]
  },
  {
   "cell_type": "code",
   "execution_count": 31,
   "id": "27b4d449",
   "metadata": {},
   "outputs": [
    {
     "data": {
      "text/plain": [
       "F    2087\n",
       "Name: I131_treatment, dtype: int64"
      ]
     },
     "execution_count": 31,
     "metadata": {},
     "output_type": "execute_result"
    }
   ],
   "source": [
    "dataset['I131_treatment'].value_counts()"
   ]
  },
  {
   "cell_type": "markdown",
   "id": "0c13bb92",
   "metadata": {},
   "source": [
    "# Processing wbc"
   ]
  },
  {
   "cell_type": "code",
   "execution_count": 32,
   "id": "d05ca64f",
   "metadata": {},
   "outputs": [
    {
     "data": {
      "text/plain": [
       "1091"
      ]
     },
     "execution_count": 32,
     "metadata": {},
     "output_type": "execute_result"
    }
   ],
   "source": [
    "dataset['WBC'].isnull().sum() "
   ]
  },
  {
   "cell_type": "markdown",
   "id": "309af5f3",
   "metadata": {},
   "source": [
    "# Convert Scientific Notation to Numeric Values "
   ]
  },
  {
   "cell_type": "code",
   "execution_count": 33,
   "id": "4cbbc517",
   "metadata": {},
   "outputs": [],
   "source": [
    "import re \n",
    "def convert_scientific_notation(value):\n",
    "    match = re.match(r'([\\d.]+)x10\\^([\\d-]+)', str(value))\n",
    "    if match:\n",
    "        base, exponent = map(float, match.groups())\n",
    "        return base * 10**exponent\n",
    "    else:\n",
    "        return float('nan')\n",
    "\n",
    "# Apply the function to the 'WBC' column\n",
    "dataset['WBC'] = dataset['WBC'].apply(convert_scientific_notation) "
   ]
  },
  {
   "cell_type": "code",
   "execution_count": 34,
   "id": "1848a653",
   "metadata": {},
   "outputs": [
    {
     "data": {
      "text/plain": [
       "<AxesSubplot:xlabel='Gender', ylabel='WBC'>"
      ]
     },
     "execution_count": 34,
     "metadata": {},
     "output_type": "execute_result"
    },
    {
     "data": {
      "image/png": "[encoded data removed]",
      "text/plain": [
       "<Figure size 640x480 with 1 Axes>"
      ]
     },
     "metadata": {},
     "output_type": "display_data"
    }
   ],
   "source": [
    "sns.boxplot(x='Gender', y='WBC', data=dataset) "
   ]
  },
  {
   "cell_type": "code",
   "execution_count": 35,
   "id": "4981ce5f",
   "metadata": {},
   "outputs": [
    {
     "name": "stdout",
     "output_type": "stream",
     "text": [
      "Mean WBC for Gender 'M': 9095626811.594202\n"
     ]
    }
   ],
   "source": [
    "mean_wbc_male = dataset.loc[dataset['Gender'] == 'M', 'WBC'].mean()\n",
    "\n",
    "print(\"Mean WBC for Gender 'M':\", mean_wbc_male)"
   ]
  },
  {
   "cell_type": "code",
   "execution_count": 36,
   "id": "873971cb",
   "metadata": {},
   "outputs": [
    {
     "name": "stdout",
     "output_type": "stream",
     "text": [
      "Mean WBC for Gender 'F': 9844441260.744986\n"
     ]
    }
   ],
   "source": [
    "mean_wbc_female = dataset.loc[dataset['Gender'] == 'F', 'WBC'].mean()\n",
    "\n",
    "print(\"Mean WBC for Gender 'F':\", mean_wbc_female) "
   ]
  },
  {
   "cell_type": "markdown",
   "id": "a968c42b",
   "metadata": {},
   "source": [
    "# use predictive model linear regression to predict wbc hue is Gender"
   ]
  },
  {
   "cell_type": "code",
   "execution_count": 37,
   "id": "15ef221e",
   "metadata": {},
   "outputs": [],
   "source": [
    "import pandas as pd\n",
    "from sklearn.model_selection import train_test_split\n",
    "from sklearn.linear_model import LinearRegression\n",
    "\n",
    "# Assuming 'dataset' is your DataFrame\n",
    "# Create a new DataFrame with non-null values for 'WBC' and 'Gender'\n",
    "df_train = dataset[['WBC', 'Gender']].dropna()\n",
    "\n",
    "# Separate the features (X) and target variable (y)\n",
    "X = pd.get_dummies(df_train[['Gender']], drop_first=True)  # Convert categorical variable to numerical using one-hot encoding\n",
    "y = df_train['WBC']\n",
    "\n",
    "# Split the data into training and testing sets\n",
    "X_train, X_test, y_train, y_test = train_test_split(X, y, test_size=0.2, random_state=42)\n",
    "\n",
    "# Train a linear regression model\n",
    "model = LinearRegression()\n",
    "model.fit(X_train, y_train)\n",
    "\n",
    "# Predict 'WBC' values for rows with missing values based on 'Gender'\n",
    "missing_values = dataset['WBC'].isnull()\n",
    "X_missing = pd.get_dummies(dataset.loc[missing_values, ['Gender']], drop_first=True)\n",
    "predicted_wbc = model.predict(X_missing)\n",
    "\n",
    "# Fill missing values in the original DataFrame\n",
    "dataset.loc[missing_values, 'WBC'] = predicted_wbc\n"
   ]
  },
  {
   "cell_type": "code",
   "execution_count": 38,
   "id": "720a2291",
   "metadata": {},
   "outputs": [
    {
     "data": {
      "text/plain": [
       "0"
      ]
     },
     "execution_count": 38,
     "metadata": {},
     "output_type": "execute_result"
    }
   ],
   "source": [
    "dataset['WBC'].isnull().sum() "
   ]
  },
  {
   "cell_type": "code",
   "execution_count": 39,
   "id": "515de4ac",
   "metadata": {},
   "outputs": [
    {
     "data": {
      "text/plain": [
       "<AxesSubplot:>"
      ]
     },
     "execution_count": 39,
     "metadata": {},
     "output_type": "execute_result"
    },
    {
     "data": {
      "image/png": "[encoded data removed]",
      "text/plain": [
       "<Figure size 2500x1500 with 2 Axes>"
      ]
     },
     "metadata": {},
     "output_type": "display_data"
    }
   ],
   "source": [
    "plt.figure(figsize=(25, 15))\n",
    "sns.heatmap(dataset.isnull(), yticklabels=False) "
   ]
  },
  {
   "cell_type": "markdown",
   "id": "bc49c078",
   "metadata": {},
   "source": [
    "# Processing RBC"
   ]
  },
  {
   "cell_type": "code",
   "execution_count": 40,
   "id": "0c1556af",
   "metadata": {},
   "outputs": [
    {
     "data": {
      "text/plain": [
       "1103"
      ]
     },
     "execution_count": 40,
     "metadata": {},
     "output_type": "execute_result"
    }
   ],
   "source": [
    "dataset['RBC'].isnull().sum()  "
   ]
  },
  {
   "cell_type": "code",
   "execution_count": 41,
   "id": "f29428dd",
   "metadata": {},
   "outputs": [],
   "source": [
    "dataset['RBC'] = dataset['RBC'].apply(convert_scientific_notation)  "
   ]
  },
  {
   "cell_type": "code",
   "execution_count": 42,
   "id": "7b4dab52",
   "metadata": {},
   "outputs": [],
   "source": [
    "import pandas as pd\n",
    "from sklearn.model_selection import train_test_split\n",
    "from sklearn.linear_model import LinearRegression\n",
    "\n",
    "# Assuming 'dataset' is your DataFrame\n",
    "# Create a new DataFrame with non-null values for 'WBC' and 'Gender'\n",
    "df_train = dataset[['RBC', 'Gender']].dropna()\n",
    "\n",
    "# Separate the features (X) and target variable (y)\n",
    "X = pd.get_dummies(df_train[['Gender']], drop_first=True)  # Convert categorical variable to numerical using one-hot encoding\n",
    "y = df_train['RBC']\n",
    "\n",
    "# Split the data into training and testing sets\n",
    "X_train, X_test, y_train, y_test = train_test_split(X, y, test_size=0.2, random_state=42)\n",
    "\n",
    "# Train a linear regression model\n",
    "model = LinearRegression()\n",
    "model.fit(X_train, y_train)\n",
    "\n",
    "# Predict 'WBC' values for rows with missing values based on 'Gender'\n",
    "missing_values = dataset['RBC'].isnull()\n",
    "X_missing = pd.get_dummies(dataset.loc[missing_values, ['Gender']], drop_first=True)\n",
    "predicted_rbc = model.predict(X_missing)\n",
    "\n",
    "# Fill missing values in the original DataFrame\n",
    "dataset.loc[missing_values, 'RBC'] = predicted_rbc\n"
   ]
  },
  {
   "cell_type": "code",
   "execution_count": 43,
   "id": "67bf7220",
   "metadata": {},
   "outputs": [
    {
     "data": {
      "text/plain": [
       "0"
      ]
     },
     "execution_count": 43,
     "metadata": {},
     "output_type": "execute_result"
    }
   ],
   "source": [
    "dataset['RBC'].isnull().sum()  "
   ]
  },
  {
   "cell_type": "markdown",
   "id": "2e031d8b",
   "metadata": {},
   "source": [
    "# Processing Platelete"
   ]
  },
  {
   "cell_type": "code",
   "execution_count": 44,
   "id": "a787db63",
   "metadata": {},
   "outputs": [],
   "source": [
    "from sklearn.linear_model import LinearRegression\n",
    "from sklearn.impute import SimpleImputer\n",
    "\n",
    "# Assuming X contains RBC and WBC columns\n",
    "X = dataset[['RBC', 'WBC']]\n",
    "y = dataset['Platelet']\n",
    "\n",
    "model = LinearRegression()\n",
    "imputer = SimpleImputer()\n",
    "\n",
    "# Fit the imputer\n",
    "imputer.fit(X, y)\n",
    "\n",
    "# Predict missing Platelet values\n",
    "dataset['Platelet'] = imputer.transform(dataset[['RBC', 'WBC']]) \n"
   ]
  },
  {
   "cell_type": "code",
   "execution_count": 45,
   "id": "5bca50b3",
   "metadata": {},
   "outputs": [
    {
     "data": {
      "text/plain": [
       "0"
      ]
     },
     "execution_count": 45,
     "metadata": {},
     "output_type": "execute_result"
    }
   ],
   "source": [
    "dataset['Platelet'].isnull().sum()   "
   ]
  },
  {
   "cell_type": "markdown",
   "id": "b41996ec",
   "metadata": {},
   "source": [
    "# Level Encoding for Gender"
   ]
  },
  {
   "cell_type": "code",
   "execution_count": 46,
   "id": "f81dc378",
   "metadata": {},
   "outputs": [],
   "source": [
    "dataset['Gender'].replace({'M':1,'F':0},inplace=True)"
   ]
  },
  {
   "cell_type": "code",
   "execution_count": 47,
   "id": "2bf9b68e",
   "metadata": {},
   "outputs": [
    {
     "data": {
      "text/html": [
       "<div>\n",
       "<style scoped>\n",
       "    .dataframe tbody tr th:only-of-type {\n",
       "        vertical-align: middle;\n",
       "    }\n",
       "\n",
       "    .dataframe tbody tr th {\n",
       "        vertical-align: top;\n",
       "    }\n",
       "\n",
       "    .dataframe thead th {\n",
       "        text-align: right;\n",
       "    }\n",
       "</style>\n",
       "<table border=\"1\" class=\"dataframe\">\n",
       "  <thead>\n",
       "    <tr style=\"text-align: right;\">\n",
       "      <th></th>\n",
       "      <th>Timestamp</th>\n",
       "      <th>Patient_ID</th>\n",
       "      <th>Date</th>\n",
       "      <th>Class</th>\n",
       "      <th>Age</th>\n",
       "      <th>Gender</th>\n",
       "      <th>Blood Group</th>\n",
       "      <th>BMI</th>\n",
       "      <th>Pulse Rate</th>\n",
       "      <th>on_thyroxine</th>\n",
       "      <th>...</th>\n",
       "      <th>CRP</th>\n",
       "      <th>Creatinine</th>\n",
       "      <th>Vitamin D</th>\n",
       "      <th>Thyroid Ultrasound</th>\n",
       "      <th>thyroid scan (thyroid scintigraphy)</th>\n",
       "      <th>Ferritin</th>\n",
       "      <th>Anti HCV</th>\n",
       "      <th>Bilirubin</th>\n",
       "      <th>AFP</th>\n",
       "      <th>Comment</th>\n",
       "    </tr>\n",
       "  </thead>\n",
       "  <tbody>\n",
       "    <tr>\n",
       "      <th>0</th>\n",
       "      <td>9/20/2023 13:15:13</td>\n",
       "      <td>CSCR_001</td>\n",
       "      <td>9/16/2023</td>\n",
       "      <td>Normal</td>\n",
       "      <td>33</td>\n",
       "      <td>1</td>\n",
       "      <td>O+</td>\n",
       "      <td>NaN</td>\n",
       "      <td>NaN</td>\n",
       "      <td>F</td>\n",
       "      <td>...</td>\n",
       "      <td>NaN</td>\n",
       "      <td>NaN</td>\n",
       "      <td>NaN</td>\n",
       "      <td>NaN</td>\n",
       "      <td>NaN</td>\n",
       "      <td>NaN</td>\n",
       "      <td>NaN</td>\n",
       "      <td>NaN</td>\n",
       "      <td>NaN</td>\n",
       "      <td>Test is carried out by Cobas e 411</td>\n",
       "    </tr>\n",
       "    <tr>\n",
       "      <th>1</th>\n",
       "      <td>9/20/2023 13:53:01</td>\n",
       "      <td>CSCR_002</td>\n",
       "      <td>9/16/2023</td>\n",
       "      <td>Normal</td>\n",
       "      <td>46</td>\n",
       "      <td>0</td>\n",
       "      <td>O+</td>\n",
       "      <td>NaN</td>\n",
       "      <td>NaN</td>\n",
       "      <td>F</td>\n",
       "      <td>...</td>\n",
       "      <td>NaN</td>\n",
       "      <td>NaN</td>\n",
       "      <td>NaN</td>\n",
       "      <td>NaN</td>\n",
       "      <td>NaN</td>\n",
       "      <td>NaN</td>\n",
       "      <td>NaN</td>\n",
       "      <td>NaN</td>\n",
       "      <td>NaN</td>\n",
       "      <td>Test is carried out by Advia Centaur CP</td>\n",
       "    </tr>\n",
       "  </tbody>\n",
       "</table>\n",
       "<p>2 rows × 46 columns</p>\n",
       "</div>"
      ],
      "text/plain": [
       "            Timestamp Patient_ID       Date   Class Age  Gender Blood Group  \\\n",
       "0  9/20/2023 13:15:13   CSCR_001  9/16/2023  Normal  33       1          O+   \n",
       "1  9/20/2023 13:53:01   CSCR_002  9/16/2023  Normal  46       0          O+   \n",
       "\n",
       "   BMI  Pulse Rate on_thyroxine  ... CRP Creatinine Vitamin D  \\\n",
       "0  NaN         NaN            F  ... NaN        NaN       NaN   \n",
       "1  NaN         NaN            F  ... NaN        NaN       NaN   \n",
       "\n",
       "  Thyroid Ultrasound  thyroid scan (thyroid scintigraphy)  Ferritin  Anti HCV  \\\n",
       "0                NaN                                  NaN       NaN       NaN   \n",
       "1                NaN                                  NaN       NaN       NaN   \n",
       "\n",
       "   Bilirubin  AFP                                  Comment  \n",
       "0        NaN  NaN       Test is carried out by Cobas e 411  \n",
       "1        NaN  NaN  Test is carried out by Advia Centaur CP  \n",
       "\n",
       "[2 rows x 46 columns]"
      ]
     },
     "execution_count": 47,
     "metadata": {},
     "output_type": "execute_result"
    }
   ],
   "source": [
    "dataset.head(2) "
   ]
  },
  {
   "cell_type": "markdown",
   "id": "dc38b14f",
   "metadata": {},
   "source": [
    "# Preprocessing Age"
   ]
  },
  {
   "cell_type": "code",
   "execution_count": 48,
   "id": "30a36cd2",
   "metadata": {},
   "outputs": [],
   "source": [
    "def convert_age_to_fraction_of_year(age):\n",
    "    if 'M' in age:\n",
    "        return 1 \n",
    "    elif 'D' in age:\n",
    "        return 0 \n",
    "    else:\n",
    "        return age\n",
    "\n",
    "# Apply the function to the 'Age' column\n",
    "dataset['Age'] = dataset['Age'].astype(str).apply(convert_age_to_fraction_of_year) \n"
   ]
  },
  {
   "cell_type": "code",
   "execution_count": 49,
   "id": "d8406e44",
   "metadata": {},
   "outputs": [
    {
     "data": {
      "text/plain": [
       "0    33\n",
       "1    46\n",
       "2    59\n",
       "3    32\n",
       "4    57\n",
       "Name: Age, dtype: object"
      ]
     },
     "execution_count": 49,
     "metadata": {},
     "output_type": "execute_result"
    }
   ],
   "source": [
    "dataset['Age'].head()"
   ]
  },
  {
   "cell_type": "code",
   "execution_count": 50,
   "id": "14ee58f3",
   "metadata": {},
   "outputs": [],
   "source": [
    "dataset['Age']=dataset['Age'].astype(int)"
   ]
  },
  {
   "cell_type": "code",
   "execution_count": 51,
   "id": "f49a865b",
   "metadata": {},
   "outputs": [
    {
     "data": {
      "text/plain": [
       "dtype('int32')"
      ]
     },
     "execution_count": 51,
     "metadata": {},
     "output_type": "execute_result"
    }
   ],
   "source": [
    "dataset['Age'].dtype"
   ]
  },
  {
   "cell_type": "markdown",
   "id": "baf87a79",
   "metadata": {},
   "source": [
    "# Preprocessing Hb"
   ]
  },
  {
   "cell_type": "code",
   "execution_count": 52,
   "id": "b9fa4c17",
   "metadata": {},
   "outputs": [
    {
     "data": {
      "text/plain": [
       "1075"
      ]
     },
     "execution_count": 52,
     "metadata": {},
     "output_type": "execute_result"
    }
   ],
   "source": [
    "dataset['Hb'].isnull().sum()"
   ]
  },
  {
   "cell_type": "code",
   "execution_count": 53,
   "id": "663555d9",
   "metadata": {},
   "outputs": [
    {
     "data": {
      "text/plain": [
       "dtype('O')"
      ]
     },
     "execution_count": 53,
     "metadata": {},
     "output_type": "execute_result"
    }
   ],
   "source": [
    "dataset['Hb'].dtype   "
   ]
  },
  {
   "cell_type": "code",
   "execution_count": 54,
   "id": "e55d5d0f",
   "metadata": {},
   "outputs": [],
   "source": [
    "from sklearn.linear_model import LinearRegression\n",
    "from sklearn.impute import SimpleImputer\n",
    "\n",
    "X = dataset[['RBC','Age','Gender']]\n",
    "y = dataset['Hb']\n",
    "\n",
    "model = LinearRegression()\n",
    "imputer = SimpleImputer()\n",
    "\n",
    "# Fit the imputer\n",
    "imputer.fit(X, y)\n",
    "\n",
    "# Predict missing Platelet values\n",
    "dataset['Hb'] = imputer.transform(dataset[['RBC','Age','Gender']]) "
   ]
  },
  {
   "cell_type": "code",
   "execution_count": 55,
   "id": "5f96c084",
   "metadata": {},
   "outputs": [
    {
     "data": {
      "text/plain": [
       "0"
      ]
     },
     "execution_count": 55,
     "metadata": {},
     "output_type": "execute_result"
    }
   ],
   "source": [
    "dataset['Hb'].isnull().sum() "
   ]
  },
  {
   "cell_type": "markdown",
   "id": "6b1283f6",
   "metadata": {},
   "source": [
    "# Processing Total Cholesterol"
   ]
  },
  {
   "cell_type": "code",
   "execution_count": 56,
   "id": "650d5138",
   "metadata": {},
   "outputs": [],
   "source": [
    "mean_cholesterol = dataset['Total Cholesterol'].mean()\n",
    "dataset['Total Cholesterol'].fillna(mean_cholesterol, inplace=True)"
   ]
  },
  {
   "cell_type": "code",
   "execution_count": 57,
   "id": "1aca4f4a",
   "metadata": {},
   "outputs": [
    {
     "data": {
      "text/plain": [
       "0"
      ]
     },
     "execution_count": 57,
     "metadata": {},
     "output_type": "execute_result"
    }
   ],
   "source": [
    "dataset['Total Cholesterol'].isnull().sum()"
   ]
  },
  {
   "cell_type": "code",
   "execution_count": 58,
   "id": "11d3b48b",
   "metadata": {},
   "outputs": [
    {
     "data": {
      "text/plain": [
       "Timestamp                                                                     0\n",
       "Patient_ID                                                                    0\n",
       "Date                                                                          0\n",
       "Class                                                                         0\n",
       "Age                                                                           0\n",
       "Gender                                                                        0\n",
       "Blood Group                                                                   0\n",
       "BMI                                                                        2086\n",
       "Pulse Rate                                                                 2087\n",
       "on_thyroxine                                                                  0\n",
       "query_on_thyroxine                                                            0\n",
       "on_antithyroid_medication                                                     0\n",
       "thyroid_surgery                                                               0\n",
       "I131_treatment                                                                0\n",
       "Have you been experiencing any of these symptoms?(check all that apply)    2087\n",
       "TSH                                                                           0\n",
       "FT4                                                                        1698\n",
       "FT3                                                                        2028\n",
       "T4                                                                         2037\n",
       "T3                                                                         2057\n",
       "Anti-TPO Ab                                                                2049\n",
       "Random Blood Sugar (RBS)                                                   1931\n",
       "WBC                                                                           0\n",
       "RBC                                                                           0\n",
       "Platelet                                                                      0\n",
       "Hb                                                                            0\n",
       "Total Cholesterol                                                             0\n",
       "Triglycerides                                                              1880\n",
       "HDL Cholesterol                                                            1876\n",
       "LDL Cholesterol                                                            1853\n",
       "S.IgE                                                                      2033\n",
       "Prolactin                                                                  2005\n",
       "LH                                                                         2049\n",
       "FSH                                                                        2047\n",
       "ALT                                                                        1817\n",
       "AST                                                                        2054\n",
       "CRP                                                                        1893\n",
       "Creatinine                                                                 1921\n",
       "Vitamin D                                                                  2046\n",
       "Thyroid Ultrasound                                                         2087\n",
       "thyroid scan (thyroid scintigraphy)                                        2087\n",
       "Ferritin                                                                   2027\n",
       "Anti HCV                                                                   2014\n",
       "Bilirubin                                                                  2068\n",
       "AFP                                                                        2067\n",
       "Comment                                                                     203\n",
       "dtype: int64"
      ]
     },
     "execution_count": 58,
     "metadata": {},
     "output_type": "execute_result"
    }
   ],
   "source": [
    "dataset.isnull().sum() "
   ]
  },
  {
   "cell_type": "markdown",
   "id": "73af5cbd",
   "metadata": {},
   "source": [
    "# Processing Others"
   ]
  },
  {
   "cell_type": "code",
   "execution_count": 59,
   "id": "444d9512",
   "metadata": {},
   "outputs": [],
   "source": [
    "mean_Triglycerides = dataset['Triglycerides'].mean()\n",
    "dataset['Triglycerides'].fillna(mean_Triglycerides, inplace=True)\n",
    "mean_HDL_Cholesterol = dataset['HDL Cholesterol'].mean()\n",
    "dataset['HDL Cholesterol'].fillna(mean_HDL_Cholesterol, inplace=True)\n",
    "mean_LDL_Cholesterol = dataset['LDL Cholesterol'].mean()\n",
    "dataset['LDL Cholesterol'].fillna(mean_LDL_Cholesterol, inplace=True) \n",
    "mean_ALT = dataset['ALT'].mean()\n",
    "dataset['ALT'].fillna(mean_ALT, inplace=True) \n",
    "\n"
   ]
  },
  {
   "cell_type": "markdown",
   "id": "92e682a4",
   "metadata": {},
   "source": [
    "# Dropping other all features"
   ]
  },
  {
   "cell_type": "code",
   "execution_count": 60,
   "id": "fb4422b3",
   "metadata": {},
   "outputs": [],
   "source": [
    "for col_name in dataset.columns:\n",
    "    if(dataset[col_name].isnull().sum()>0):\n",
    "        dataset.drop(col_name,axis=1,inplace=True)"
   ]
  },
  {
   "cell_type": "code",
   "execution_count": 61,
   "id": "be639e25",
   "metadata": {},
   "outputs": [],
   "source": [
    "dataset.drop(['Timestamp','Patient_ID','Date'],axis=1,inplace=True)"
   ]
  },
  {
   "cell_type": "code",
   "execution_count": 62,
   "id": "62704579",
   "metadata": {},
   "outputs": [
    {
     "data": {
      "text/plain": [
       "Class                        0\n",
       "Age                          0\n",
       "Gender                       0\n",
       "Blood Group                  0\n",
       "on_thyroxine                 0\n",
       "query_on_thyroxine           0\n",
       "on_antithyroid_medication    0\n",
       "thyroid_surgery              0\n",
       "I131_treatment               0\n",
       "TSH                          0\n",
       "WBC                          0\n",
       "RBC                          0\n",
       "Platelet                     0\n",
       "Hb                           0\n",
       "Total Cholesterol            0\n",
       "Triglycerides                0\n",
       "HDL Cholesterol              0\n",
       "LDL Cholesterol              0\n",
       "ALT                          0\n",
       "dtype: int64"
      ]
     },
     "execution_count": 62,
     "metadata": {},
     "output_type": "execute_result"
    }
   ],
   "source": [
    "dataset.isnull().sum()"
   ]
  },
  {
   "cell_type": "code",
   "execution_count": 63,
   "id": "cc1bb07f",
   "metadata": {},
   "outputs": [
    {
     "data": {
      "text/plain": [
       "<AxesSubplot:>"
      ]
     },
     "execution_count": 63,
     "metadata": {},
     "output_type": "execute_result"
    },
    {
     "data": {
      "image/png": "[encoded data removed]",
      "text/plain": [
       "<Figure size 2500x1500 with 2 Axes>"
      ]
     },
     "metadata": {},
     "output_type": "display_data"
    }
   ],
   "source": [
    "plt.figure(figsize=(25, 15))\n",
    "sns.heatmap(dataset.isnull(), yticklabels=False) "
   ]
  },
  {
   "cell_type": "markdown",
   "id": "2e9796cd",
   "metadata": {},
   "source": [
    "# Neumerical Preprocessing is Done"
   ]
  },
  {
   "cell_type": "markdown",
   "id": "03cf7b07",
   "metadata": {},
   "source": [
    "# Here start categorical Processing "
   ]
  },
  {
   "cell_type": "code",
   "execution_count": 64,
   "id": "6ffad179",
   "metadata": {},
   "outputs": [
    {
     "data": {
      "text/plain": [
       "Class                         object\n",
       "Age                            int32\n",
       "Gender                         int64\n",
       "Blood Group                   object\n",
       "on_thyroxine                  object\n",
       "query_on_thyroxine            object\n",
       "on_antithyroid_medication     object\n",
       "thyroid_surgery               object\n",
       "I131_treatment                object\n",
       "TSH                          float64\n",
       "WBC                          float64\n",
       "RBC                          float64\n",
       "Platelet                     float64\n",
       "Hb                           float64\n",
       "Total Cholesterol            float64\n",
       "Triglycerides                float64\n",
       "HDL Cholesterol              float64\n",
       "LDL Cholesterol              float64\n",
       "ALT                          float64\n",
       "dtype: object"
      ]
     },
     "execution_count": 64,
     "metadata": {},
     "output_type": "execute_result"
    }
   ],
   "source": [
    "dataset.dtypes"
   ]
  },
  {
   "cell_type": "code",
   "execution_count": 65,
   "id": "77f87b91",
   "metadata": {},
   "outputs": [
    {
     "data": {
      "text/plain": [
       "array(['O+', 'A+', 'B+', 'AB+', 'O-', 'B-', 'AB-', 'A-'], dtype=object)"
      ]
     },
     "execution_count": 65,
     "metadata": {},
     "output_type": "execute_result"
    }
   ],
   "source": [
    "dataset['Blood Group'].unique()"
   ]
  },
  {
   "cell_type": "code",
   "execution_count": 66,
   "id": "1144c879",
   "metadata": {},
   "outputs": [],
   "source": [
    "# Apply one-hot encoding to the 'Blood Group' column\n",
    "blood_group_encoded = pd.get_dummies(dataset['Blood Group'], prefix='BloodGroup')\n",
    "\n",
    "# Concatenate the encoded columns with the original DataFrame\n",
    "dataset= pd.concat([dataset, blood_group_encoded], axis=1)"
   ]
  },
  {
   "cell_type": "code",
   "execution_count": 67,
   "id": "0e1bd8ff",
   "metadata": {},
   "outputs": [
    {
     "data": {
      "text/html": [
       "<div>\n",
       "<style scoped>\n",
       "    .dataframe tbody tr th:only-of-type {\n",
       "        vertical-align: middle;\n",
       "    }\n",
       "\n",
       "    .dataframe tbody tr th {\n",
       "        vertical-align: top;\n",
       "    }\n",
       "\n",
       "    .dataframe thead th {\n",
       "        text-align: right;\n",
       "    }\n",
       "</style>\n",
       "<table border=\"1\" class=\"dataframe\">\n",
       "  <thead>\n",
       "    <tr style=\"text-align: right;\">\n",
       "      <th></th>\n",
       "      <th>Class</th>\n",
       "      <th>Age</th>\n",
       "      <th>Gender</th>\n",
       "      <th>Blood Group</th>\n",
       "      <th>on_thyroxine</th>\n",
       "      <th>query_on_thyroxine</th>\n",
       "      <th>on_antithyroid_medication</th>\n",
       "      <th>thyroid_surgery</th>\n",
       "      <th>I131_treatment</th>\n",
       "      <th>TSH</th>\n",
       "      <th>...</th>\n",
       "      <th>LDL Cholesterol</th>\n",
       "      <th>ALT</th>\n",
       "      <th>BloodGroup_A+</th>\n",
       "      <th>BloodGroup_A-</th>\n",
       "      <th>BloodGroup_AB+</th>\n",
       "      <th>BloodGroup_AB-</th>\n",
       "      <th>BloodGroup_B+</th>\n",
       "      <th>BloodGroup_B-</th>\n",
       "      <th>BloodGroup_O+</th>\n",
       "      <th>BloodGroup_O-</th>\n",
       "    </tr>\n",
       "  </thead>\n",
       "  <tbody>\n",
       "    <tr>\n",
       "      <th>0</th>\n",
       "      <td>Normal</td>\n",
       "      <td>33</td>\n",
       "      <td>1</td>\n",
       "      <td>O+</td>\n",
       "      <td>F</td>\n",
       "      <td>F</td>\n",
       "      <td>F</td>\n",
       "      <td>F</td>\n",
       "      <td>F</td>\n",
       "      <td>2.323</td>\n",
       "      <td>...</td>\n",
       "      <td>116.547863</td>\n",
       "      <td>35.192037</td>\n",
       "      <td>0</td>\n",
       "      <td>0</td>\n",
       "      <td>0</td>\n",
       "      <td>0</td>\n",
       "      <td>0</td>\n",
       "      <td>0</td>\n",
       "      <td>1</td>\n",
       "      <td>0</td>\n",
       "    </tr>\n",
       "    <tr>\n",
       "      <th>1</th>\n",
       "      <td>Normal</td>\n",
       "      <td>46</td>\n",
       "      <td>0</td>\n",
       "      <td>O+</td>\n",
       "      <td>F</td>\n",
       "      <td>F</td>\n",
       "      <td>F</td>\n",
       "      <td>F</td>\n",
       "      <td>F</td>\n",
       "      <td>1.173</td>\n",
       "      <td>...</td>\n",
       "      <td>116.547863</td>\n",
       "      <td>35.192037</td>\n",
       "      <td>0</td>\n",
       "      <td>0</td>\n",
       "      <td>0</td>\n",
       "      <td>0</td>\n",
       "      <td>0</td>\n",
       "      <td>0</td>\n",
       "      <td>1</td>\n",
       "      <td>0</td>\n",
       "    </tr>\n",
       "    <tr>\n",
       "      <th>2</th>\n",
       "      <td>Normal</td>\n",
       "      <td>59</td>\n",
       "      <td>1</td>\n",
       "      <td>O+</td>\n",
       "      <td>F</td>\n",
       "      <td>F</td>\n",
       "      <td>F</td>\n",
       "      <td>F</td>\n",
       "      <td>F</td>\n",
       "      <td>2.520</td>\n",
       "      <td>...</td>\n",
       "      <td>116.547863</td>\n",
       "      <td>35.192037</td>\n",
       "      <td>0</td>\n",
       "      <td>0</td>\n",
       "      <td>0</td>\n",
       "      <td>0</td>\n",
       "      <td>0</td>\n",
       "      <td>0</td>\n",
       "      <td>1</td>\n",
       "      <td>0</td>\n",
       "    </tr>\n",
       "    <tr>\n",
       "      <th>3</th>\n",
       "      <td>Hypo</td>\n",
       "      <td>32</td>\n",
       "      <td>1</td>\n",
       "      <td>O+</td>\n",
       "      <td>F</td>\n",
       "      <td>F</td>\n",
       "      <td>F</td>\n",
       "      <td>F</td>\n",
       "      <td>F</td>\n",
       "      <td>7.710</td>\n",
       "      <td>...</td>\n",
       "      <td>116.547863</td>\n",
       "      <td>35.192037</td>\n",
       "      <td>0</td>\n",
       "      <td>0</td>\n",
       "      <td>0</td>\n",
       "      <td>0</td>\n",
       "      <td>0</td>\n",
       "      <td>0</td>\n",
       "      <td>1</td>\n",
       "      <td>0</td>\n",
       "    </tr>\n",
       "    <tr>\n",
       "      <th>4</th>\n",
       "      <td>Normal</td>\n",
       "      <td>57</td>\n",
       "      <td>0</td>\n",
       "      <td>O+</td>\n",
       "      <td>F</td>\n",
       "      <td>F</td>\n",
       "      <td>F</td>\n",
       "      <td>F</td>\n",
       "      <td>F</td>\n",
       "      <td>4.340</td>\n",
       "      <td>...</td>\n",
       "      <td>116.547863</td>\n",
       "      <td>35.192037</td>\n",
       "      <td>0</td>\n",
       "      <td>0</td>\n",
       "      <td>0</td>\n",
       "      <td>0</td>\n",
       "      <td>0</td>\n",
       "      <td>0</td>\n",
       "      <td>1</td>\n",
       "      <td>0</td>\n",
       "    </tr>\n",
       "  </tbody>\n",
       "</table>\n",
       "<p>5 rows × 27 columns</p>\n",
       "</div>"
      ],
      "text/plain": [
       "    Class  Age  Gender Blood Group on_thyroxine query_on_thyroxine  \\\n",
       "0  Normal   33       1          O+            F                  F   \n",
       "1  Normal   46       0          O+            F                  F   \n",
       "2  Normal   59       1          O+            F                  F   \n",
       "3    Hypo   32       1          O+            F                  F   \n",
       "4  Normal   57       0          O+            F                  F   \n",
       "\n",
       "  on_antithyroid_medication thyroid_surgery I131_treatment    TSH  ...  \\\n",
       "0                         F               F              F  2.323  ...   \n",
       "1                         F               F              F  1.173  ...   \n",
       "2                         F               F              F  2.520  ...   \n",
       "3                         F               F              F  7.710  ...   \n",
       "4                         F               F              F  4.340  ...   \n",
       "\n",
       "   LDL Cholesterol        ALT  BloodGroup_A+  BloodGroup_A-  BloodGroup_AB+  \\\n",
       "0       116.547863  35.192037              0              0               0   \n",
       "1       116.547863  35.192037              0              0               0   \n",
       "2       116.547863  35.192037              0              0               0   \n",
       "3       116.547863  35.192037              0              0               0   \n",
       "4       116.547863  35.192037              0              0               0   \n",
       "\n",
       "   BloodGroup_AB-  BloodGroup_B+  BloodGroup_B-  BloodGroup_O+  BloodGroup_O-  \n",
       "0               0              0              0              1              0  \n",
       "1               0              0              0              1              0  \n",
       "2               0              0              0              1              0  \n",
       "3               0              0              0              1              0  \n",
       "4               0              0              0              1              0  \n",
       "\n",
       "[5 rows x 27 columns]"
      ]
     },
     "execution_count": 67,
     "metadata": {},
     "output_type": "execute_result"
    }
   ],
   "source": [
    "dataset.head()"
   ]
  },
  {
   "cell_type": "code",
   "execution_count": 68,
   "id": "0d4839ee",
   "metadata": {},
   "outputs": [],
   "source": [
    "dataset.drop('Blood Group',axis=1,inplace=True)"
   ]
  },
  {
   "cell_type": "code",
   "execution_count": 69,
   "id": "9fc9fd38",
   "metadata": {},
   "outputs": [
    {
     "data": {
      "text/plain": [
       "Index(['Class', 'Age', 'Gender', 'on_thyroxine', 'query_on_thyroxine',\n",
       "       'on_antithyroid_medication', 'thyroid_surgery', 'I131_treatment', 'TSH',\n",
       "       'WBC', 'RBC', 'Platelet', 'Hb', 'Total Cholesterol', 'Triglycerides',\n",
       "       'HDL Cholesterol', 'LDL Cholesterol', 'ALT', 'BloodGroup_A+',\n",
       "       'BloodGroup_A-', 'BloodGroup_AB+', 'BloodGroup_AB-', 'BloodGroup_B+',\n",
       "       'BloodGroup_B-', 'BloodGroup_O+', 'BloodGroup_O-'],\n",
       "      dtype='object')"
      ]
     },
     "execution_count": 69,
     "metadata": {},
     "output_type": "execute_result"
    }
   ],
   "source": [
    "dataset.columns"
   ]
  },
  {
   "cell_type": "code",
   "execution_count": 70,
   "id": "66c5a186",
   "metadata": {},
   "outputs": [
    {
     "data": {
      "text/plain": [
       "array(['F', 'T'], dtype=object)"
      ]
     },
     "execution_count": 70,
     "metadata": {},
     "output_type": "execute_result"
    }
   ],
   "source": [
    "dataset['on_thyroxine'].unique()"
   ]
  },
  {
   "cell_type": "code",
   "execution_count": 71,
   "id": "9b651fab",
   "metadata": {},
   "outputs": [],
   "source": [
    "dataset['on_thyroxine'].replace({'F':0,'T':1},inplace=True)"
   ]
  },
  {
   "cell_type": "code",
   "execution_count": 72,
   "id": "d8604acb",
   "metadata": {},
   "outputs": [],
   "source": [
    "dataset['on_antithyroid_medication'].replace({'F':0,'T':1},inplace=True) \n",
    "dataset['thyroid_surgery'].replace({'F':0,'T':1},inplace=True)\n",
    "dataset['I131_treatment'].replace({'F':0,'T':1},inplace=True) \n",
    "dataset['query_on_thyroxine'].replace({'F':0,'T':1},inplace=True) "
   ]
  },
  {
   "cell_type": "code",
   "execution_count": 73,
   "id": "38c5f82f",
   "metadata": {},
   "outputs": [
    {
     "data": {
      "text/plain": [
       "Class                         object\n",
       "Age                            int32\n",
       "Gender                         int64\n",
       "on_thyroxine                   int64\n",
       "query_on_thyroxine             int64\n",
       "on_antithyroid_medication      int64\n",
       "thyroid_surgery                int64\n",
       "I131_treatment                 int64\n",
       "TSH                          float64\n",
       "WBC                          float64\n",
       "RBC                          float64\n",
       "Platelet                     float64\n",
       "Hb                           float64\n",
       "Total Cholesterol            float64\n",
       "Triglycerides                float64\n",
       "HDL Cholesterol              float64\n",
       "LDL Cholesterol              float64\n",
       "ALT                          float64\n",
       "BloodGroup_A+                  uint8\n",
       "BloodGroup_A-                  uint8\n",
       "BloodGroup_AB+                 uint8\n",
       "BloodGroup_AB-                 uint8\n",
       "BloodGroup_B+                  uint8\n",
       "BloodGroup_B-                  uint8\n",
       "BloodGroup_O+                  uint8\n",
       "BloodGroup_O-                  uint8\n",
       "dtype: object"
      ]
     },
     "execution_count": 73,
     "metadata": {},
     "output_type": "execute_result"
    }
   ],
   "source": [
    "dataset.dtypes"
   ]
  },
  {
   "cell_type": "code",
   "execution_count": 74,
   "id": "354b933e",
   "metadata": {},
   "outputs": [
    {
     "data": {
      "text/plain": [
       "array([ 33,  46,  59,  32,  57,  35,  19,  52,  43,  48,  27,  65,  67,\n",
       "        34,  38,  26,  50,  24,  25,  18,   0,  42,  53,  15,  37,  17,\n",
       "        28,  80,  44,  22,  40,  30,  20,  47,  21,   5,  49,  41,  60,\n",
       "        29,  39,  45,  11,   9,  63,  31,  70,  51,  75,  55,  23,  54,\n",
       "        56,  58,  62,  85,  36,  64,  78,  10,   7,  72,  66,  68,  12,\n",
       "        13,  69,  16,   1,   8,   3,  77,  79,  90,   4,  61,  73,  14,\n",
       "        71,  86, 100,  74,  87,  76,  95,   6,  81,   2,  84,  82])"
      ]
     },
     "execution_count": 74,
     "metadata": {},
     "output_type": "execute_result"
    }
   ],
   "source": [
    "dataset['Age'].unique()"
   ]
  },
  {
   "cell_type": "markdown",
   "id": "d7f9dacd",
   "metadata": {},
   "source": [
    "# Apply RandomForestClassifier Model"
   ]
  },
  {
   "cell_type": "code",
   "execution_count": 76,
   "id": "f7f1f03c",
   "metadata": {},
   "outputs": [],
   "source": [
    "from sklearn.model_selection import train_test_split\n",
    "from sklearn.ensemble import RandomForestClassifier\n",
    "# Assuming 'class' is the target column, and other columns are features\n",
    "X = dataset.drop('Class', axis=1)\n",
    "y = dataset['Class']\n",
    "\n",
    "# Split the data into training and testing sets\n",
    "X_train, X_test, y_train, y_test = train_test_split(X, y, test_size=0.3, random_state=42)\n",
    "\n",
    "# Initialize the Random Forest Classifier\n",
    "rf_classifier = RandomForestClassifier(n_estimators=100, random_state=42)\n",
    "\n",
    "# Train the model\n",
    "rf_classifier.fit(X_train, y_train)\n",
    "\n",
    "# Make predictions on the test set\n",
    "y_pred = rf_classifier.predict(X_test)\n"
   ]
  },
  {
   "cell_type": "code",
   "execution_count": 77,
   "id": "e2570ffd",
   "metadata": {},
   "outputs": [
    {
     "data": {
      "text/plain": [
       "array(['Normal', 'Hypo', 'Normal', 'Normal', 'Normal', 'Normal', 'Hyper',\n",
       "       'Normal', 'Normal', 'Normal', 'Hyper', 'Normal', 'Normal',\n",
       "       'Normal', 'Hypo', 'Hypo', 'Hypo', 'Normal', 'Hyper', 'Hyper',\n",
       "       'Hypo', 'Normal', 'Hyper', 'Normal', 'Hypo', 'Normal', 'Normal',\n",
       "       'Normal', 'Normal', 'Normal', 'Hyper', 'Normal', 'Hyper', 'Normal',\n",
       "       'Normal', 'Normal', 'Normal', 'Normal', 'Normal', 'Hypo', 'Normal',\n",
       "       'Hyper', 'Hyper', 'Hyper', 'Hyper', 'Hyper', 'Hypo', 'Hyper',\n",
       "       'Normal', 'Hypo', 'Normal', 'Normal', 'Normal', 'Hypo', 'Normal',\n",
       "       'Normal', 'Hypo', 'Hyper', 'Normal', 'Normal', 'Hypo', 'Hypo',\n",
       "       'Normal', 'Normal', 'Normal', 'Normal', 'Normal', 'Hyper', 'Hypo',\n",
       "       'Normal', 'Normal', 'Normal', 'Hypo', 'Normal', 'Normal', 'Normal',\n",
       "       'Normal', 'Normal', 'Hypo', 'Normal', 'Normal', 'Normal', 'Normal',\n",
       "       'Normal', 'Normal', 'Normal', 'Normal', 'Hyper', 'Hypo', 'Normal',\n",
       "       'Normal', 'Normal', 'Hypo', 'Normal', 'Normal', 'Normal', 'Normal',\n",
       "       'Hypo', 'Normal', 'Normal', 'Hyper', 'Normal', 'Normal', 'Normal',\n",
       "       'Hypo', 'Hypo', 'Normal', 'Normal', 'Normal', 'Hyper', 'Normal',\n",
       "       'Hypo', 'Normal', 'Normal', 'Hypo', 'Normal', 'Hypo', 'Normal',\n",
       "       'Hyper', 'Normal', 'Normal', 'Normal', 'Normal', 'Normal', 'Hypo',\n",
       "       'Hyper', 'Hyper', 'Normal', 'Normal', 'Normal', 'Hypo', 'Normal',\n",
       "       'Hypo', 'Hyper', 'Hypo', 'Normal', 'Hyper', 'Hyper', 'Normal',\n",
       "       'Hyper', 'Normal', 'Normal', 'Hyper', 'Normal', 'Normal', 'Normal',\n",
       "       'Hypo', 'Normal', 'Normal', 'Normal', 'Normal', 'Normal', 'Hypo',\n",
       "       'Normal', 'Normal', 'Normal', 'Hypo', 'Normal', 'Normal', 'Normal',\n",
       "       'Normal', 'Hypo', 'Hypo', 'Normal', 'Normal', 'Normal', 'Normal',\n",
       "       'Normal', 'Normal', 'Hypo', 'Hypo', 'Normal', 'Hypo', 'Hypo',\n",
       "       'Normal', 'Normal', 'Normal', 'Normal', 'Hyper', 'Normal',\n",
       "       'Normal', 'Hypo', 'Hypo', 'Normal', 'Hyper', 'Hyper', 'Normal',\n",
       "       'Normal', 'Normal', 'Hypo', 'Hypo', 'Normal', 'Hyper', 'Hyper',\n",
       "       'Normal', 'Hyper', 'Hyper', 'Normal', 'Normal', 'Normal', 'Normal',\n",
       "       'Hypo', 'Hypo', 'Normal', 'Hypo', 'Normal', 'Normal', 'Normal',\n",
       "       'Normal', 'Normal', 'Normal', 'Normal', 'Normal', 'Hypo', 'Hyper',\n",
       "       'Hypo', 'Hypo', 'Normal', 'Normal', 'Normal', 'Hyper', 'Normal',\n",
       "       'Normal', 'Normal', 'Normal', 'Normal', 'Hyper', 'Hyper', 'Normal',\n",
       "       'Hypo', 'Normal', 'Normal', 'Normal', 'Normal', 'Hyper', 'Hyper',\n",
       "       'Hyper', 'Normal', 'Normal', 'Normal', 'Hypo', 'Normal', 'Normal',\n",
       "       'Normal', 'Normal', 'Hypo', 'Normal', 'Normal', 'Normal', 'Normal',\n",
       "       'Hyper', 'Hyper', 'Normal', 'Normal', 'Normal', 'Normal', 'Normal',\n",
       "       'Normal', 'Normal', 'Normal', 'Normal', 'Normal', 'Normal',\n",
       "       'Normal', 'Normal', 'Hypo', 'Hypo', 'Normal', 'Normal', 'Normal',\n",
       "       'Normal', 'Normal', 'Normal', 'Normal', 'Hyper', 'Normal',\n",
       "       'Normal', 'Normal', 'Hypo', 'Normal', 'Normal', 'Normal', 'Normal',\n",
       "       'Hyper', 'Hyper', 'Normal', 'Normal', 'Normal', 'Normal', 'Hypo',\n",
       "       'Hypo', 'Hyper', 'Hyper', 'Normal', 'Hypo', 'Hyper', 'Normal',\n",
       "       'Hypo', 'Hyper', 'Hypo', 'Normal', 'Hyper', 'Normal', 'Normal',\n",
       "       'Hypo', 'Normal', 'Normal', 'Normal', 'Hypo', 'Normal', 'Normal',\n",
       "       'Hyper', 'Normal', 'Normal', 'Normal', 'Hyper', 'Normal', 'Normal',\n",
       "       'Normal', 'Normal', 'Normal', 'Normal', 'Hyper', 'Normal', 'Hyper',\n",
       "       'Normal', 'Hypo', 'Hypo', 'Hyper', 'Hypo', 'Hypo', 'Normal',\n",
       "       'Normal', 'Hyper', 'Normal', 'Hyper', 'Hyper', 'Normal', 'Hypo',\n",
       "       'Normal', 'Normal', 'Normal', 'Normal', 'Hypo', 'Normal', 'Normal',\n",
       "       'Normal', 'Normal', 'Normal', 'Hyper', 'Hyper', 'Normal', 'Hypo',\n",
       "       'Normal', 'Normal', 'Hyper', 'Normal', 'Hyper', 'Hypo', 'Normal',\n",
       "       'Hypo', 'Normal', 'Hypo', 'Normal', 'Hyper', 'Hypo', 'Normal',\n",
       "       'Hypo', 'Normal', 'Hyper', 'Normal', 'Hypo', 'Normal', 'Hypo',\n",
       "       'Normal', 'Normal', 'Normal', 'Normal', 'Hypo', 'Hypo', 'Hyper',\n",
       "       'Hypo', 'Normal', 'Hypo', 'Normal', 'Hypo', 'Hypo', 'Normal',\n",
       "       'Normal', 'Normal', 'Normal', 'Normal', 'Normal', 'Normal',\n",
       "       'Normal', 'Hyper', 'Normal', 'Normal', 'Normal', 'Normal', 'Hypo',\n",
       "       'Hyper', 'Normal', 'Normal', 'Normal', 'Normal', 'Normal',\n",
       "       'Normal', 'Hypo', 'Hypo', 'Hypo', 'Normal', 'Normal', 'Normal',\n",
       "       'Normal', 'Normal', 'Hypo', 'Hyper', 'Normal', 'Normal', 'Normal',\n",
       "       'Normal', 'Normal', 'Normal', 'Normal', 'Hypo', 'Normal', 'Normal',\n",
       "       'Hyper', 'Normal', 'Hypo', 'Hyper', 'Normal', 'Normal', 'Normal',\n",
       "       'Normal', 'Normal', 'Normal', 'Hypo', 'Normal', 'Hyper', 'Hyper',\n",
       "       'Normal', 'Normal', 'Normal', 'Normal', 'Normal', 'Normal', 'Hypo',\n",
       "       'Normal', 'Hypo', 'Normal', 'Hypo', 'Normal', 'Hyper', 'Normal',\n",
       "       'Normal', 'Normal', 'Hyper', 'Normal', 'Normal', 'Normal', 'Hypo',\n",
       "       'Normal', 'Normal', 'Hypo', 'Hypo', 'Normal', 'Hyper', 'Normal',\n",
       "       'Normal', 'Normal', 'Normal', 'Normal', 'Normal', 'Hypo', 'Normal',\n",
       "       'Hyper', 'Normal', 'Normal', 'Hypo', 'Normal', 'Normal', 'Normal',\n",
       "       'Normal', 'Normal', 'Normal', 'Hypo', 'Normal', 'Hypo', 'Normal',\n",
       "       'Hyper', 'Normal', 'Hypo', 'Hyper', 'Hypo', 'Normal', 'Normal',\n",
       "       'Normal', 'Hypo', 'Normal', 'Normal', 'Hyper', 'Normal', 'Normal',\n",
       "       'Normal', 'Hypo', 'Normal', 'Normal', 'Normal', 'Hypo', 'Hyper',\n",
       "       'Hypo', 'Hypo', 'Normal', 'Hypo', 'Normal', 'Hypo', 'Hypo',\n",
       "       'Hyper', 'Hyper', 'Hyper', 'Normal', 'Hypo', 'Normal', 'Hypo',\n",
       "       'Normal', 'Normal', 'Normal', 'Hyper', 'Hypo', 'Hyper', 'Normal',\n",
       "       'Hyper', 'Hyper', 'Normal', 'Hypo', 'Hypo', 'Normal', 'Normal',\n",
       "       'Hyper', 'Normal', 'Hypo', 'Normal', 'Normal', 'Hyper', 'Normal',\n",
       "       'Normal', 'Hyper', 'Normal', 'Hypo', 'Normal', 'Hypo', 'Normal',\n",
       "       'Hyper', 'Hypo', 'Normal', 'Normal', 'Normal', 'Hyper', 'Hypo',\n",
       "       'Hypo', 'Hyper', 'Hyper', 'Normal', 'Hyper', 'Normal', 'Hypo',\n",
       "       'Normal', 'Normal', 'Hyper', 'Normal', 'Normal', 'Hypo', 'Normal',\n",
       "       'Normal', 'Normal', 'Hypo', 'Normal', 'Normal', 'Normal', 'Normal',\n",
       "       'Normal', 'Normal', 'Normal', 'Normal', 'Hypo', 'Hypo', 'Normal',\n",
       "       'Normal', 'Hyper', 'Normal', 'Normal', 'Hyper', 'Hypo', 'Hypo',\n",
       "       'Normal', 'Normal', 'Normal', 'Hypo', 'Normal', 'Normal', 'Hypo',\n",
       "       'Hypo', 'Normal', 'Hyper', 'Hyper', 'Normal', 'Hypo', 'Normal',\n",
       "       'Normal', 'Normal', 'Normal', 'Hypo', 'Normal', 'Hyper', 'Normal',\n",
       "       'Hyper', 'Normal', 'Normal', 'Normal', 'Hypo', 'Normal', 'Normal',\n",
       "       'Normal', 'Hypo', 'Hyper'], dtype=object)"
      ]
     },
     "execution_count": 77,
     "metadata": {},
     "output_type": "execute_result"
    }
   ],
   "source": [
    "y_pred"
   ]
  },
  {
   "cell_type": "code",
   "execution_count": 84,
   "id": "314488d9",
   "metadata": {},
   "outputs": [
    {
     "name": "stdout",
     "output_type": "stream",
     "text": [
      "Accuracy: 0.98\n",
      "Classification Report:\n",
      "              precision    recall  f1-score   support\n",
      "\n",
      "       Hyper       0.99      0.99      0.99       103\n",
      "        Hypo       0.95      0.97      0.96       131\n",
      "      Normal       0.99      0.98      0.98       393\n",
      "\n",
      "    accuracy                           0.98       627\n",
      "   macro avg       0.98      0.98      0.98       627\n",
      "weighted avg       0.98      0.98      0.98       627\n",
      "\n"
     ]
    }
   ],
   "source": [
    "from sklearn.metrics import accuracy_score, classification_report\n",
    "accuracy=accuracy_score(y_pred,y_test)\n",
    "print(f\"Accuracy: {accuracy:.2f}\")\n",
    "\n",
    "# Display classification report\n",
    "print(\"Classification Report:\")\n",
    "print(classification_report(y_test, y_pred)) "
   ]
  },
  {
   "cell_type": "code",
   "execution_count": null,
   "id": "2b153901",
   "metadata": {},
   "outputs": [],
   "source": []
  },
  {
   "cell_type": "code",
   "execution_count": 86,
   "id": "8841befa",
   "metadata": {},
   "outputs": [
    {
     "data": {
      "image/png": "[encoded data removed]",
      "text/plain": [
       "<Figure size 800x600 with 2 Axes>"
      ]
     },
     "metadata": {},
     "output_type": "display_data"
    }
   ],
   "source": [
    "cm = confusion_matrix(y_test, y_pred)\n",
    "\n",
    "# Display the confusion matrix using seaborn heatmap\n",
    "plt.figure(figsize=(8, 6))\n",
    "sns.heatmap(cm, annot=True, fmt=\"d\", cmap=\"Blues\", xticklabels=['hyper', 'hypo', 'normal'], yticklabels=['hyper', 'hypo', 'normal'])\n",
    "plt.xlabel('Predicted')\n",
    "plt.ylabel('True')\n",
    "plt.title('Confusion Matrix')\n",
    "plt.show()"
   ]
  },
  {
   "cell_type": "code",
   "execution_count": null,
   "id": "63fe8985",
   "metadata": {},
   "outputs": [],
   "source": []
  },
  {
   "cell_type": "code",
   "execution_count": null,
   "id": "682dc3b1",
   "metadata": {},
   "outputs": [],
   "source": []
  }
 ],
 "metadata": {
  "kernelspec": {
   "display_name": "Python 3 (ipykernel)",
   "language": "python",
   "name": "python3"
  },
  "language_info": {
   "codemirror_mode": {
    "name": "ipython",
    "version": 3
   },
   "file_extension": ".py",
   "mimetype": "text/x-python",
   "name": "python",
   "nbconvert_exporter": "python",
   "pygments_lexer": "ipython3",
   "version": "3.9.13"
  }
 },
 "nbformat": 4,
 "nbformat_minor": 5
}
